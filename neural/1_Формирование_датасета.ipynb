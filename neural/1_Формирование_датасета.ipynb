{
  "nbformat": 4,
  "nbformat_minor": 0,
  "metadata": {
    "colab": {
      "name": "1. Формирование датасета.ipynb",
      "provenance": [],
      "collapsed_sections": []
    },
    "kernelspec": {
      "name": "python3",
      "display_name": "Python 3"
    },
    "language_info": {
      "name": "python"
    }
  },
  "cells": [
    {
      "cell_type": "code",
      "metadata": {
        "id": "Vq64k-md6SPf"
      },
      "source": [
        "import os\n",
        "import requests\n",
        "# import re\n",
        "# from bs4 import BeautifulSoup\n",
        "import pandas as pd\n",
        "import matplotlib.pyplot as plt\n",
        "\n",
        "from google.colab import drive, files"
      ],
      "execution_count": null,
      "outputs": []
    },
    {
      "cell_type": "markdown",
      "metadata": {
        "id": "KJ1_bOzvg0wX"
      },
      "source": [
        "# Монтируем гугл-диск"
      ]
    },
    {
      "cell_type": "code",
      "metadata": {
        "colab": {
          "base_uri": "https://localhost:8080/"
        },
        "id": "pMEZFa-Fg6Ge",
        "outputId": "85eba592-e358-40f6-c471-270bdbd8bfdd"
      },
      "source": [
        "drive.mount('/content/drive')"
      ],
      "execution_count": null,
      "outputs": [
        {
          "output_type": "stream",
          "text": [
            "Drive already mounted at /content/drive; to attempt to forcibly remount, call drive.mount(\"/content/drive\", force_remount=True).\n"
          ],
          "name": "stdout"
        }
      ]
    },
    {
      "cell_type": "markdown",
      "metadata": {
        "id": "zaccpd_phFi3"
      },
      "source": [
        "# Настройки\n",
        "ВНИМАНИЕ! \n",
        "*   пропишите путь до вашей диретории;\n",
        "*   укажите Ваш SERVICE_KEY для API vk.com;\n",
        "\n",
        "\n"
      ]
    },
    {
      "cell_type": "code",
      "metadata": {
        "id": "8Nc3kdxghI7P"
      },
      "source": [
        "ROOT_PATH = '/content/drive/MyDrive/Colab Notebooks/ЦП 2021'  # ВНИМАНИЕ! Пропишите путь до вашей диретории\n",
        "CLASS_LIST = ['Путешествия', 'История', 'Наука и техника' 'Развлечения', 'Новости', 'Политика', 'Бизнес', 'Спорт', 'Личные данные']\n",
        "SERVICE_KEY = ''  # ВНИМАНИЕ! Укажите Ваш SERVICE_KEY для API vk.com\n",
        "VERSION = '5.122'"
      ],
      "execution_count": null,
      "outputs": []
    },
    {
      "cell_type": "markdown",
      "metadata": {
        "id": "jbsdvvX9420x"
      },
      "source": [
        "# Парсер vk\n",
        "1. Используя api vk.com получим индентификатор пользователя, по которому спарсим все его публикации. \n",
        "\n",
        "2. Пройдём циклом по всем публикациям и склеим все текстовые поля в одно для дальнейшего создания \"bag of words\" (\"мешка слов\") для обучения нейросети.\n",
        "\n",
        "3. В цикле возьмем 10 главных изображений публикации (если они есть) с разрешением от 200 до 400 пикселей по высоте. С большим количеством пикселей - нейросеть будет долго справляться и может быть ошибка из=за превышения лимита памяти. С меньшим разрешением - снизится качество распознавания, поэтому выберем изображения высотой от 200 до 400 пикселей из списка превьюшек в vk.com\n",
        "Эти данные нужны будут для масштабирования проекта, когда пудем делать предсказания не только по тексту, но и по изображениям. На начальном этапе - только классификация по тексту.\n",
        "\n",
        "4. Сформируем train датасет для нейронной сети.\n",
        "Колонка 'text' - текст, 'img_0' ... 'img_9' - 10 ссылок на изображения, 'y' - индес класса"
      ]
    },
    {
      "cell_type": "markdown",
      "metadata": {
        "id": "-5SKOQ1VTC5P"
      },
      "source": [
        "# Размечаем данные для обучения нейросети\n",
        "Список блогеров, на которых мы будем обучать модель с разбитием по классам - отбираем и присваиваем классы вручную. На этих блогерах модель будет учиться. \n",
        "\n",
        "У нас жётское ограничение по времени, поэтому наш датасет будет очень скромным."
      ]
    },
    {
      "cell_type": "code",
      "metadata": {
        "id": "M1F8MIe1UXaE"
      },
      "source": [
        "blogers_list = [\n",
        "  ['red21vr', 3],\n",
        "  ['den_schmalz', 8],\n",
        "  ['artur__babich', 3],\n",
        "  ['aparfenchikov', 4],\n",
        "  ['pokrovskaya_one', 3],\n",
        "  ['mahavsekruto', 8],\n",
        "  ['romanredder', 3],\n",
        "  ['anriel', 8],\n",
        "  ['naumova_maryana ', 8],\n",
        "  ['id122880531', 8],\n",
        "  ['ocoffi', 3],\n",
        "  ['comedoz', 3],\n",
        "  ['phosphxr', 3],\n",
        "  ['ah_astahova', 3],\n",
        "  ['arina_skoromnaya', 8],\n",
        "  ['ramzan', 5],\n",
        "  ['malafeev16ru', 7],\n",
        "  ['yogris', 3],\n",
        "  ['gusev_36', 4],\n",
        "  ['zhora', 6],\n",
        "  ['basta', 3],\n",
        "  ['asmus__kristina', 8],\n",
        "  ['vdemchog', 8],\n",
        "  ['rodiongazmanov', 3],\n",
        "  ['id18195959', 3],\n",
        "  ['ladesov', 8],\n",
        "  ['arbeninad', 3],\n",
        "  ['gladkov_vv', 5],\n",
        "  ['durov', 4],\n",
        "  ['nosovdy', 5],\n",
        "  ['kfnik', 7],\n",
        "  ['id5178265', 8],\n",
        "  ['vladimiruiba', 4],\n",
        "  ['didenok', 8],\n",
        "  ['andreybatt', 3],\n",
        "  ['bahh_tee', 3],\n",
        "  ['ivlevchef', 3],\n",
        "  ['tapog', 3],\n",
        "  ['timurrodriguez', 3],\n",
        "  ['atl', 3],\n",
        "  ['scinquisitor', 2],\n",
        "  ['zheki444', 3],\n",
        "  ['hovan', 3],\n",
        "  ['romajigan', 8],\n",
        "  ['serzhmorzh', 3],\n",
        "  ['amirans', 8],\n",
        "  ['aksenovrk', 4],\n",
        "  ['artyukhov_da', 4],\n",
        "  ['radiyhabirov', 4],\n",
        "  ['aparfenchikov', 4],\n",
        "  ['shumkov_vadim', 4],\n",
        "  ['alexemelyanenko', 7],\n",
        "  ['lybimovnikolay', 4],\n",
        "  ['gubernator46', 4],\n",
        "  ['a.tsybulskiy', 4],\n",
        "  ['razvozhaev_m', 4],\n",
        "  ['shapsha', 4],\n",
        "  ['aleksandr__moor', 4],\n",
        "  ['sergeylazarev', 3],\n",
        "  ['nevzorovofficial', 5],\n",
        "  ['sergeyvoropanov', 4],\n",
        "  ['adam_moran', 3],\n",
        "  ['tanya_rybakova', 8],\n",
        "  ['hobo_halt', 0],\n",
        "  ['meetthebrad', 0],\n",
        "  ['jan', 0],\n",
        "  ['id15963000', 0],\n",
        "  ['drohn', 0],\n",
        "  ['rai_naomi', 0],\n",
        "  ['velecot', 7],\n",
        "  ['id88384092', 0],\n",
        "  ['aleksvena88', 0],\n",
        "  ['id320436949', 0],\n",
        "  ['ponomareva_iv', 8],\n",
        "  ['levika3', 0],\n",
        "  ['tatianka_92', 0],\n",
        "  ['two6player', 0],\n",
        "  ['id63220198', 0],\n",
        "  ['rz1992', 0],\n",
        "  ['first_loove', 0],\n",
        "  ['id2800704', 0],\n",
        "  ['captainxhardcore', 0],\n",
        "  ['jilinanton', 7],\n",
        "  ['little_chiffa', 8],\n",
        "  ['roman178', 7],\n",
        "  ['m_subbotina', 0],\n",
        "  ['alex_karachevtsev', 0],\n",
        "  ['klern', 0],\n",
        "  ['iamshayahh', 0],\n",
        "  ['oldi.guide', 0],\n",
        "  ['id128100343', 0],\n",
        "  ['astroman1792', 0],\n",
        "  ['fink.anastasia', 0],\n",
        "  ['petrosipov', 6],\n",
        "  ['apras', 6],\n",
        "  ['belpavser', 6],\n",
        "  ['kupriyanov_dima', 6],\n",
        "  ['di.marketer', 6],\n",
        "  ['maximus', 6],\n",
        "  ['eldar7', 6],\n",
        "  ['ilya_kalyadin', 6],\n",
        "  ['starokvashev', 6],\n",
        "  ['talich', 2],\n",
        "  ['kiselev.aleksey.samara', 7],\n",
        "  ['slavabogomolov', 2],\n",
        "  ['vasiliy_yandex_direct', 6],\n",
        "  ['semagina_natalya', 6],\n",
        "  ['dima.vasyukov', 0],\n",
        "  ['kompaniets.andrey', 6],\n",
        "  ['zorinws', 6],\n",
        "  ['qwjbjx', 2],\n",
        "  ['mr_malik', 6],\n",
        "  ['luka_aleksey', 7],\n",
        "  ['a.britva', 6],\n",
        "  ['timafair', 6],\n",
        "  ['dashkievm', 6],\n",
        "  ['alexeydementev', 6],\n",
        "  ['sergeysayanov', 6],\n",
        "  ['psy_insight', 6],\n",
        "  ['versilov', 7],\n",
        "  ['shevaha_andriy', 6],\n",
        "  ['id138630374', 6],\n",
        "]"
      ],
      "execution_count": null,
      "outputs": []
    },
    {
      "cell_type": "markdown",
      "metadata": {
        "id": "8D5R59tn5JoH"
      },
      "source": [
        "# Класс парсера Vk\n",
        "Используем api vk для получения постов\n"
      ]
    },
    {
      "cell_type": "code",
      "metadata": {
        "id": "E4Mceq1y5Ivn"
      },
      "source": [
        "class User():\n",
        "  def getId(self, user_ids):\n",
        "    # Получаем id пользователя по user_ids\n",
        "    data = {'access_token': SERVICE_KEY, 'v': VERSION, 'user_ids': user_ids}\n",
        "    r = requests.get('https://api.vk.com/method/users.get', data)\n",
        "    return r.json()['response'][0]['id']\n",
        "  \n",
        "  # Получаем все посты пользоватля\n",
        "  def getWall(self, user_id):\n",
        "    data = {'access_token': SERVICE_KEY, 'v': VERSION, 'owner_id': user_id}\n",
        "    r = requests.get('https://api.vk.com/method/wall.get', data)\n",
        "    r_json = r.json()\n",
        "    if 'response' in r_json:  # Если профиль доступен\n",
        "      return r_json['response']['items']\n",
        "  \n",
        "    return False  # Приватный профиль\n",
        "\n",
        "  # Получаем список с текстом и url изображениями для датасета\n",
        "  def getDataList(self, posts):\n",
        "    text = ''\n",
        "    img_count = 0;\n",
        "    img_list = []  # Список изображений\n",
        "    for post in posts:\n",
        "      text += post['text'] + ' '  # Получаем текст всех записей\n",
        "      if img_count < 10:  # Возьмём только 10 последних изображений\n",
        "        if 'attachments' in post:\n",
        "          if post['attachments'][0]['type'] == 'photo':\n",
        "            sizes = post['attachments'][0]['photo']['sizes']  # Список изображений, размеры, url\n",
        "            for size in sizes:  # Перебираем размеры изображений\n",
        "              if size['height'] > 200 and size['height'] < 400:\n",
        "                img_list.append(size['url'])\n",
        "                img_count += 1\n",
        "\n",
        "    # result_list = [text] + img_list\n",
        "    result_list = [text]  # Пока только текст\n",
        "\n",
        "    # Возвращаем только данные, если текст длинее 100 символов и длина result_list == 11 (количество изображений = 10)\n",
        "    if len(result_list[0]) > 100: # Пока только текст - без and len(result_list) == 11:\n",
        "      return result_list\n",
        "    \n",
        "    # Иначе данные считаем фальшивыми\n",
        "    print(f'ПРОПУСКАЕМ, длина текста: {len(result_list[0])}')\n",
        "    return False"
      ],
      "execution_count": null,
      "outputs": []
    },
    {
      "cell_type": "markdown",
      "metadata": {
        "id": "zkri4YLi5vg2"
      },
      "source": [
        "# Перебираем список блогеров и создаём датасет, сохраняем"
      ]
    },
    {
      "cell_type": "code",
      "metadata": {
        "id": "JQXRF4ugVfj1",
        "colab": {
          "base_uri": "https://localhost:8080/"
        },
        "outputId": "9d8ff3ef-5a3a-4efb-97d0-a7f982811cd8"
      },
      "source": [
        "user = User()\n",
        "df_list = []  # Список для формирования датафрейма\n",
        "for bloger in blogers_list:\n",
        "  user_id = user.getId(bloger[0])\n",
        "  posts = user.getWall(user_id)  # Получаем идентификатор пользователя, если введён никнейм\n",
        "\n",
        "  print(f'user_id: {user_id}')\n",
        "\n",
        "  if not posts:  # Пропускаем приватные профили и те из которых мы не можем получить информацию\n",
        "    print('ПРОПУСКАЕМ')\n",
        "    continue\n",
        "\n",
        "  data_list = user.getDataList(posts)\n",
        "  if data_list:\n",
        "    bloger_list = data_list + [bloger[1]]\n",
        "    df_list.append(bloger_list)\n",
        "\n",
        "# df = pd.DataFrame(df_list, columns=['text', 'img_0', 'img_1', 'img_2', 'img_3', 'img_4', 'img_5', 'img_6', 'img_7', 'img_8', 'img_9', 'y'])\n",
        "df = pd.DataFrame(df_list, columns=['text', 'y'])  # Пока только текст\n",
        "\n",
        "df.to_csv(os.path.join(ROOT_PATH, 'vk_train_data.csv'), index=False)"
      ],
      "execution_count": null,
      "outputs": [
        {
          "output_type": "stream",
          "text": [
            "user_id: 152108913\n",
            "ПРОПУСКАЕМ, длина текста: 76\n",
            "user_id: 177709874\n",
            "user_id: 167759856\n",
            "user_id: 419407976\n",
            "user_id: 47903500\n",
            "user_id: 99553591\n",
            "user_id: 126109056\n",
            "user_id: 83132571\n",
            "user_id: 104916144\n",
            "user_id: 122880531\n",
            "user_id: 53260546\n",
            "user_id: 7708047\n",
            "user_id: 87971053\n",
            "user_id: 1399678\n",
            "user_id: 942327\n",
            "user_id: 279938622\n",
            "user_id: 274999264\n",
            "user_id: 2099349\n",
            "user_id: 572534614\n",
            "user_id: 3420\n",
            "user_id: 2128351\n",
            "user_id: 173725684\n",
            "user_id: 210963617\n",
            "user_id: 3250683\n",
            "user_id: 18195959\n",
            "user_id: 385429433\n",
            "user_id: 290697449\n",
            "user_id: 639631882\n",
            "user_id: 1\n",
            "user_id: 152817444\n",
            "user_id: 3601537\n",
            "user_id: 5178265\n",
            "user_id: 597516834\n",
            "user_id: 3471320\n",
            "user_id: 1361100\n",
            "user_id: 770759\n",
            "user_id: 454339300\n",
            "user_id: 4545435\n",
            "user_id: 40434887\n",
            "ПРОПУСКАЕМ, длина текста: 20\n",
            "user_id: 9879430\n",
            "user_id: 187756\n",
            "user_id: 120685155\n",
            "user_id: 1770436\n",
            "user_id: 2080539\n",
            "user_id: 21071117\n",
            "ПРОПУСКАЕМ, длина текста: 20\n",
            "user_id: 8658426\n",
            "user_id: 535871340\n",
            "user_id: 517493162\n",
            "user_id: 413272232\n",
            "user_id: 419407976\n",
            "user_id: 510423964\n",
            "user_id: 465635343\n",
            "user_id: 453841527\n",
            "user_id: 516521317\n",
            "user_id: 358141318\n",
            "user_id: 513235930\n",
            "user_id: 585626025\n",
            "user_id: 498250867\n",
            "user_id: 381875183\n",
            "user_id: 473321945\n",
            "user_id: 148385942\n",
            "user_id: 2677959\n",
            "user_id: 155990526\n",
            "user_id: 463344620\n",
            "user_id: 55709688\n",
            "user_id: 1746569\n",
            "user_id: 15963000\n",
            "ПРОПУСКАЕМ, длина текста: 20\n",
            "user_id: 5253305\n",
            "user_id: 143810580\n",
            "user_id: 6865863\n",
            "user_id: 88384092\n",
            "user_id: 572598246\n",
            "user_id: 320436949\n",
            "user_id: 11651715\n",
            "ПРОПУСКАЕМ\n",
            "user_id: 5665910\n",
            "user_id: 88345897\n",
            "user_id: 37183583\n",
            "user_id: 63220198\n",
            "user_id: 53336106\n",
            "ПРОПУСКАЕМ, длина текста: 67\n",
            "user_id: 26685631\n",
            "user_id: 2800704\n",
            "ПРОПУСКАЕМ\n",
            "user_id: 5949446\n",
            "ПРОПУСКАЕМ\n",
            "user_id: 55605474\n",
            "user_id: 77142423\n",
            "ПРОПУСКАЕМ\n",
            "user_id: 328851\n",
            "ПРОПУСКАЕМ\n",
            "user_id: 22037567\n",
            "ПРОПУСКАЕМ\n",
            "user_id: 34010243\n",
            "user_id: 3213388\n",
            "ПРОПУСКАЕМ\n",
            "user_id: 633588386\n",
            "ПРОПУСКАЕМ\n",
            "user_id: 269277932\n",
            "user_id: 128100343\n",
            "user_id: 17071792\n",
            "ПРОПУСКАЕМ\n",
            "user_id: 15607007\n",
            "user_id: 755178\n",
            "user_id: 32063572\n",
            "user_id: 5792660\n",
            "user_id: 2338041\n",
            "user_id: 11190591\n",
            "user_id: 10155227\n",
            "ПРОПУСКАЕМ\n",
            "user_id: 155478600\n",
            "user_id: 7015300\n",
            "user_id: 58119499\n",
            "user_id: 5167142\n",
            "ПРОПУСКАЕМ\n",
            "user_id: 13875047\n",
            "user_id: 16111717\n",
            "user_id: 2424205\n",
            "user_id: 34647373\n",
            "user_id: 35102166\n",
            "user_id: 19635267\n",
            "user_id: 16635558\n",
            "user_id: 5082941\n",
            "ПРОПУСКАЕМ\n",
            "user_id: 2736442\n",
            "user_id: 23549326\n",
            "user_id: 1387057\n",
            "user_id: 148034839\n",
            "user_id: 67030\n",
            "user_id: 270733\n",
            "user_id: 58077514\n",
            "user_id: 136151190\n",
            "user_id: 2861390\n",
            "user_id: 8499442\n",
            "user_id: 138630374\n"
          ],
          "name": "stdout"
        }
      ]
    },
    {
      "cell_type": "markdown",
      "metadata": {
        "id": "sVqkcAkfeQfi"
      },
      "source": [
        "# Посмотрим датафрейм"
      ]
    },
    {
      "cell_type": "code",
      "metadata": {
        "colab": {
          "base_uri": "https://localhost:8080/"
        },
        "id": "_5Bvslv8eKG6",
        "outputId": "25d45ad6-6fb8-449b-97b3-29e7aa3a64a3"
      },
      "source": [
        "print(f'Форма датасета:{df.shape}')\n",
        "print('Посмотрим структуру датасета:\\n', df.head())"
      ],
      "execution_count": null,
      "outputs": [
        {
          "output_type": "stream",
          "text": [
            "Форма датасета:(105, 2)\n",
            "Посмотрим структуру датасета:\n",
            "                                                 text  y\n",
            "0   В сумке у папы Моя татуха      Мой личный рей...  8\n",
            "1  Ребятки, мы вместе Cheetos, Аней и Махой запус...  3\n",
            "2  Онлайн-совещание по итогам работы в Беломорско...  4\n",
            "3    Встретимся сегодня! Выкладывай свои записи с...  3\n",
            "4  Ээээй бро!\\nБудущего не знаем, но чтобы не был...  8\n"
          ],
          "name": "stdout"
        }
      ]
    },
    {
      "cell_type": "markdown",
      "metadata": {
        "id": "438VGwRJiut8"
      },
      "source": [
        "# Гистограма длинны текста блогеров"
      ]
    },
    {
      "cell_type": "code",
      "metadata": {
        "colab": {
          "base_uri": "https://localhost:8080/",
          "height": 282
        },
        "id": "SkUcCNnnk8kX",
        "outputId": "b7c58a1e-0bdc-4298-fbb3-1264c6baaa4a"
      },
      "source": [
        "text_len = df['text'].apply(len)\n",
        "text_len.plot.hist()"
      ],
      "execution_count": null,
      "outputs": [
        {
          "output_type": "execute_result",
          "data": {
            "text/plain": [
              "<matplotlib.axes._subplots.AxesSubplot at 0x7f3c72670bd0>"
            ]
          },
          "metadata": {},
          "execution_count": 8
        },
        {
          "output_type": "display_data",
          "data": {
            "image/png": "[encoded data removed]",
            "text/plain": [
              "<Figure size 432x288 with 1 Axes>"
            ]
          },
          "metadata": {
            "needs_background": "light"
          }
        }
      ]
    }
  ]
}